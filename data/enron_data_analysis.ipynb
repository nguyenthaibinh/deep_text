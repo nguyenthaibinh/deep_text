{
 "cells": [
  {
   "cell_type": "code",
   "execution_count": 1,
   "metadata": {},
   "outputs": [],
   "source": [
    "import pandas as pd\n",
    "import numpy as np\n",
    "import re\n",
    "import os, email\n",
    "import pprint\n",
    "\n",
    "from utils import get_text_from_email, parse_message_attachment\n",
    "\n",
    "%load_ext autoreload\n",
    "%autoreload 2"
   ]
  },
  {
   "cell_type": "code",
   "execution_count": 2,
   "metadata": {},
   "outputs": [],
   "source": [
    "INPUT_FILE = 'emails.csv'"
   ]
  },
  {
   "cell_type": "markdown",
   "metadata": {},
   "source": [
    "# Read emails from the emails.csv"
   ]
  },
  {
   "cell_type": "code",
   "execution_count": 3,
   "metadata": {},
   "outputs": [],
   "source": [
    "raw_messages = pd.read_csv(INPUT_FILE)"
   ]
  },
  {
   "cell_type": "markdown",
   "metadata": {},
   "source": [
    "## Top 5 messages"
   ]
  },
  {
   "cell_type": "code",
   "execution_count": 4,
   "metadata": {},
   "outputs": [
    {
     "data": {
      "text/html": [
       "<div>\n",
       "<style>\n",
       "    .dataframe thead tr:only-child th {\n",
       "        text-align: right;\n",
       "    }\n",
       "\n",
       "    .dataframe thead th {\n",
       "        text-align: left;\n",
       "    }\n",
       "\n",
       "    .dataframe tbody tr th {\n",
       "        vertical-align: top;\n",
       "    }\n",
       "</style>\n",
       "<table border=\"1\" class=\"dataframe\">\n",
       "  <thead>\n",
       "    <tr style=\"text-align: right;\">\n",
       "      <th></th>\n",
       "      <th>file</th>\n",
       "      <th>message</th>\n",
       "    </tr>\n",
       "  </thead>\n",
       "  <tbody>\n",
       "    <tr>\n",
       "      <th>0</th>\n",
       "      <td>allen-p/_sent_mail/1.</td>\n",
       "      <td>Message-ID: &lt;18782981.1075855378110.JavaMail.e...</td>\n",
       "    </tr>\n",
       "    <tr>\n",
       "      <th>1</th>\n",
       "      <td>allen-p/_sent_mail/10.</td>\n",
       "      <td>Message-ID: &lt;15464986.1075855378456.JavaMail.e...</td>\n",
       "    </tr>\n",
       "    <tr>\n",
       "      <th>2</th>\n",
       "      <td>allen-p/_sent_mail/100.</td>\n",
       "      <td>Message-ID: &lt;24216240.1075855687451.JavaMail.e...</td>\n",
       "    </tr>\n",
       "    <tr>\n",
       "      <th>3</th>\n",
       "      <td>allen-p/_sent_mail/1000.</td>\n",
       "      <td>Message-ID: &lt;13505866.1075863688222.JavaMail.e...</td>\n",
       "    </tr>\n",
       "    <tr>\n",
       "      <th>4</th>\n",
       "      <td>allen-p/_sent_mail/1001.</td>\n",
       "      <td>Message-ID: &lt;30922949.1075863688243.JavaMail.e...</td>\n",
       "    </tr>\n",
       "  </tbody>\n",
       "</table>\n",
       "</div>"
      ],
      "text/plain": [
       "                       file                                            message\n",
       "0     allen-p/_sent_mail/1.  Message-ID: <18782981.1075855378110.JavaMail.e...\n",
       "1    allen-p/_sent_mail/10.  Message-ID: <15464986.1075855378456.JavaMail.e...\n",
       "2   allen-p/_sent_mail/100.  Message-ID: <24216240.1075855687451.JavaMail.e...\n",
       "3  allen-p/_sent_mail/1000.  Message-ID: <13505866.1075863688222.JavaMail.e...\n",
       "4  allen-p/_sent_mail/1001.  Message-ID: <30922949.1075863688243.JavaMail.e..."
      ]
     },
     "execution_count": 4,
     "metadata": {},
     "output_type": "execute_result"
    }
   ],
   "source": [
    "raw_messages.head()"
   ]
  },
  {
   "cell_type": "markdown",
   "metadata": {},
   "source": [
    "## The content of a message"
   ]
  },
  {
   "cell_type": "code",
   "execution_count": 5,
   "metadata": {},
   "outputs": [
    {
     "name": "stdout",
     "output_type": "stream",
     "text": [
      "Message-ID: <15464986.1075855378456.JavaMail.evans@thyme>\n",
      "Date: Fri, 4 May 2001 13:51:00 -0700 (PDT)\n",
      "From: phillip.allen@enron.com\n",
      "To: john.lavorato@enron.com\n",
      "Subject: Re:\n",
      "Mime-Version: 1.0\n",
      "Content-Type: text/plain; charset=us-ascii\n",
      "Content-Transfer-Encoding: 7bit\n",
      "X-From: Phillip K Allen\n",
      "X-To: John J Lavorato <John J Lavorato/ENRON@enronXgate@ENRON>\n",
      "X-cc: \n",
      "X-bcc: \n",
      "X-Folder: \\Phillip_Allen_Jan2002_1\\Allen, Phillip K.\\'Sent Mail\n",
      "X-Origin: Allen-P\n",
      "X-FileName: pallen (Non-Privileged).pst\n",
      "\n",
      "Traveling to have a business meeting takes the fun out of the trip.  Especially if you have to prepare a presentation.  I would suggest holding the business plan meetings here then take a trip without any formal business meetings.  I would even try and get some honest opinions on whether a trip is even desired or necessary.\n",
      "\n",
      "As far as the business meetings, I think it would be more productive to try and stimulate discussions across the different groups about what is working and what is not.  Too often the presenter speaks and the others are quiet just waiting for their turn.   The meetings might be better if held in a round table discussion format.  \n",
      "\n",
      "My suggestion for where to go is Austin.  Play golf and rent a ski boat and jet ski's.  Flying somewhere takes too much time.\n",
      "\n"
     ]
    }
   ],
   "source": [
    "print(raw_messages['message'][1])"
   ]
  },
  {
   "cell_type": "markdown",
   "metadata": {},
   "source": [
    "## Extract the email contents"
   ]
  },
  {
   "cell_type": "code",
   "execution_count": 6,
   "metadata": {},
   "outputs": [],
   "source": [
    "df_emails = raw_messages.copy()\n",
    "messages = list(map(email.message_from_string, raw_messages['message']))\n",
    "keys = messages[0].keys()\n",
    "for key in keys:\n",
    "    df_emails[key] = [doc[key] for doc in messages]\n",
    "df_emails['content'] = list(map(get_text_from_email, messages))"
   ]
  },
  {
   "cell_type": "code",
   "execution_count": 7,
   "metadata": {},
   "outputs": [],
   "source": [
    "df_emails['user'] = df_emails['file'].apply(lambda x: x.split('/')[0])\n",
    "df_emails['folder'] = df_emails['file'].apply(lambda x: x.split('/')[1])\n",
    "df_emails = df_emails.drop(['file', 'Mime-Version', 'Content-Type', 'message', 'X-Folder', 'X-FileName'],\n",
    "                           axis=1)\n",
    "df_emails = df_emails[['user', 'folder', 'Message-ID', 'From', 'To', 'Subject', 'content']]"
   ]
  },
  {
   "cell_type": "code",
   "execution_count": 8,
   "metadata": {},
   "outputs": [
    {
     "data": {
      "text/html": [
       "<div>\n",
       "<style>\n",
       "    .dataframe thead tr:only-child th {\n",
       "        text-align: right;\n",
       "    }\n",
       "\n",
       "    .dataframe thead th {\n",
       "        text-align: left;\n",
       "    }\n",
       "\n",
       "    .dataframe tbody tr th {\n",
       "        vertical-align: top;\n",
       "    }\n",
       "</style>\n",
       "<table border=\"1\" class=\"dataframe\">\n",
       "  <thead>\n",
       "    <tr style=\"text-align: right;\">\n",
       "      <th></th>\n",
       "      <th>user</th>\n",
       "      <th>folder</th>\n",
       "      <th>Message-ID</th>\n",
       "      <th>From</th>\n",
       "      <th>To</th>\n",
       "      <th>Subject</th>\n",
       "      <th>content</th>\n",
       "    </tr>\n",
       "  </thead>\n",
       "  <tbody>\n",
       "    <tr>\n",
       "      <th>0</th>\n",
       "      <td>allen-p</td>\n",
       "      <td>_sent_mail</td>\n",
       "      <td>&lt;18782981.1075855378110.JavaMail.evans@thyme&gt;</td>\n",
       "      <td>phillip.allen@enron.com</td>\n",
       "      <td>tim.belden@enron.com</td>\n",
       "      <td></td>\n",
       "      <td>Here is our forecast\\n\\n</td>\n",
       "    </tr>\n",
       "    <tr>\n",
       "      <th>1</th>\n",
       "      <td>allen-p</td>\n",
       "      <td>_sent_mail</td>\n",
       "      <td>&lt;15464986.1075855378456.JavaMail.evans@thyme&gt;</td>\n",
       "      <td>phillip.allen@enron.com</td>\n",
       "      <td>john.lavorato@enron.com</td>\n",
       "      <td>Re:</td>\n",
       "      <td>Traveling to have a business meeting takes the...</td>\n",
       "    </tr>\n",
       "    <tr>\n",
       "      <th>2</th>\n",
       "      <td>allen-p</td>\n",
       "      <td>_sent_mail</td>\n",
       "      <td>&lt;24216240.1075855687451.JavaMail.evans@thyme&gt;</td>\n",
       "      <td>phillip.allen@enron.com</td>\n",
       "      <td>leah.arsdall@enron.com</td>\n",
       "      <td>Re: test</td>\n",
       "      <td>test successful.  way to go!!!</td>\n",
       "    </tr>\n",
       "    <tr>\n",
       "      <th>3</th>\n",
       "      <td>allen-p</td>\n",
       "      <td>_sent_mail</td>\n",
       "      <td>&lt;13505866.1075863688222.JavaMail.evans@thyme&gt;</td>\n",
       "      <td>phillip.allen@enron.com</td>\n",
       "      <td>randall.gay@enron.com</td>\n",
       "      <td></td>\n",
       "      <td>Randy,\\n\\n Can you send me a schedule of the s...</td>\n",
       "    </tr>\n",
       "    <tr>\n",
       "      <th>4</th>\n",
       "      <td>allen-p</td>\n",
       "      <td>_sent_mail</td>\n",
       "      <td>&lt;30922949.1075863688243.JavaMail.evans@thyme&gt;</td>\n",
       "      <td>phillip.allen@enron.com</td>\n",
       "      <td>greg.piper@enron.com</td>\n",
       "      <td>Re: Hello</td>\n",
       "      <td>Let's shoot for Tuesday at 11:45.</td>\n",
       "    </tr>\n",
       "  </tbody>\n",
       "</table>\n",
       "</div>"
      ],
      "text/plain": [
       "      user      folder                                     Message-ID  \\\n",
       "0  allen-p  _sent_mail  <18782981.1075855378110.JavaMail.evans@thyme>   \n",
       "1  allen-p  _sent_mail  <15464986.1075855378456.JavaMail.evans@thyme>   \n",
       "2  allen-p  _sent_mail  <24216240.1075855687451.JavaMail.evans@thyme>   \n",
       "3  allen-p  _sent_mail  <13505866.1075863688222.JavaMail.evans@thyme>   \n",
       "4  allen-p  _sent_mail  <30922949.1075863688243.JavaMail.evans@thyme>   \n",
       "\n",
       "                      From                       To    Subject  \\\n",
       "0  phillip.allen@enron.com     tim.belden@enron.com              \n",
       "1  phillip.allen@enron.com  john.lavorato@enron.com        Re:   \n",
       "2  phillip.allen@enron.com   leah.arsdall@enron.com   Re: test   \n",
       "3  phillip.allen@enron.com    randall.gay@enron.com              \n",
       "4  phillip.allen@enron.com     greg.piper@enron.com  Re: Hello   \n",
       "\n",
       "                                             content  \n",
       "0                          Here is our forecast\\n\\n   \n",
       "1  Traveling to have a business meeting takes the...  \n",
       "2                     test successful.  way to go!!!  \n",
       "3  Randy,\\n\\n Can you send me a schedule of the s...  \n",
       "4                Let's shoot for Tuesday at 11:45.    "
      ]
     },
     "execution_count": 8,
     "metadata": {},
     "output_type": "execute_result"
    }
   ],
   "source": [
    "df_emails.head()"
   ]
  },
  {
   "cell_type": "markdown",
   "metadata": {},
   "source": [
    "## Number of messages"
   ]
  },
  {
   "cell_type": "code",
   "execution_count": 9,
   "metadata": {},
   "outputs": [
    {
     "name": "stdout",
     "output_type": "stream",
     "text": [
      "# of messages: 517401\n"
     ]
    }
   ],
   "source": [
    "print(\"# of messages:\", df_emails.shape[0])"
   ]
  },
  {
   "cell_type": "markdown",
   "metadata": {},
   "source": [
    "### Drop duplicate messages (the same messages that are stored in multiple users' mailboxes)"
   ]
  },
  {
   "cell_type": "code",
   "execution_count": 10,
   "metadata": {},
   "outputs": [],
   "source": [
    "df_emails = df_emails.drop_duplicates(subset='content').reset_index()\n",
    "df_emails = df_emails.drop(['index'], axis=1)"
   ]
  },
  {
   "cell_type": "code",
   "execution_count": 11,
   "metadata": {},
   "outputs": [
    {
     "name": "stdout",
     "output_type": "stream",
     "text": [
      "# of messages: 249025\n"
     ]
    }
   ],
   "source": [
    "print(\"# of messages:\", df_emails.shape[0])"
   ]
  },
  {
   "cell_type": "code",
   "execution_count": 12,
   "metadata": {},
   "outputs": [
    {
     "name": "stdout",
     "output_type": "stream",
     "text": [
      "THE CONTENT OF A MESSAGE:\n",
      "\n",
      "\n",
      "Subject: Westgate\n",
      "---------------------- Forwarded by Phillip K Allen/HOU/ECT on 10/03/2000 \n",
      "04:30 PM ---------------------------\n",
      "\n",
      "\n",
      "\"George Richards\" <cbpres@austin.rr.com> on 10/03/2000 06:35:56 AM\n",
      "Please respond to <cbpres@austin.rr.com>\n",
      "To: \"Phillip Allen\" <pallen@enron.com>\n",
      "cc: \"Larry Lewter\" <retwell@mail.sanmarcos.net> \n",
      "Subject: Westgate\n",
      "\n",
      "\n",
      "Westgate\n",
      "\n",
      "Enclosed are demographics on the Westgate site from Investor's Alliance.\n",
      "Investor's Alliance says that these demographics are similar to the package\n",
      "on San Marcos that you received earlier.\n",
      "If there are any other questions or information requirements, let me know.\n",
      "Then, let me know your interest level in the Westgate project?\n",
      "\n",
      "San Marcos\n",
      "The property across the street from the Sagewood units in San Marcos is for\n",
      "sale and approved for 134 units.  The land is selling for $2.50 per square\n",
      "foot as it is one of only two remaining approved multifamily parcels in West\n",
      "San Marcos, which now has a moratorium on development.\n",
      "\n",
      "Several new studies we have looked at show that the rents for our duplexes\n",
      "and for these new units are going to be significantly higher, roughly $1.25\n",
      "per square foot if leased for the entire unit on a 12-month lease and\n",
      "$1.30-$1.40 psf if leased on a 12-month term, but by individual room.  This\n",
      "property will have the best location for student housing of all new\n",
      "projects, just as the duplexes do now.\n",
      "\n",
      "If this project is of serious interest to you, please let me know as there\n",
      "is a very, very short window of opportunity.  The equity requirement is not\n",
      "yet known, but it would be likely to be $300,000 to secure the land.  I will\n",
      "know more on this question later today.\n",
      "\n",
      "Sincerely,\n",
      "\n",
      "George W. Richards\n",
      "President, Creekside Builders, LLC\n",
      "\n",
      "\n",
      " - winmail.dat\n",
      "\n"
     ]
    }
   ],
   "source": [
    "print(\"THE CONTENT OF A MESSAGE:\\n\\n\")\n",
    "i = 18\n",
    "print(\"Subject:\", df_emails['Subject'][i])\n",
    "print(df_emails['content'][i])"
   ]
  },
  {
   "cell_type": "markdown",
   "metadata": {},
   "source": [
    "## Extract the attachments from the email contents"
   ]
  },
  {
   "cell_type": "code",
   "execution_count": 13,
   "metadata": {},
   "outputs": [],
   "source": [
    "attachments = {}\n",
    "for i in range(df_emails.shape[0]):\n",
    "    att = parse_message_attachment(df_emails['content'][i])\n",
    "    if len(att) > 0:\n",
    "        m_id = str(df_emails['Message-ID'][i])\n",
    "        attachments[m_id] = att"
   ]
  },
  {
   "cell_type": "code",
   "execution_count": 14,
   "metadata": {},
   "outputs": [],
   "source": [
    "df_attachments = pd.DataFrame(list(attachments.items()), columns=['Message-ID', 'attachment'])\n",
    "df_attachments = pd.DataFrame({'Message-ID':np.repeat(df_attachments['Message-ID'].values,\n",
    "                                                      df_attachments['attachment'].str.len()),\n",
    "              'attachment':np.concatenate(df_attachments['attachment'].values)})"
   ]
  },
  {
   "cell_type": "code",
   "execution_count": 15,
   "metadata": {},
   "outputs": [],
   "source": [
    "try:\n",
    "    df_emails = df_emails.drop(['attachment'], axis=1)\n",
    "except Exception as e:\n",
    "    pass\n",
    "\n",
    "df_emails = df_emails.merge(df_attachments, left_on='Message-ID', right_on='Message-ID',\n",
    "                            how='inner')\n",
    "attachment_counts = df_attachments['attachment'].value_counts()[(df_attachments['attachment'].value_counts()>1) & \n",
    "                                                                (df_attachments['attachment'].value_counts()<35)]\n",
    "df_emails = df_emails[df_emails['attachment'].isin(list(attachment_counts.index))].reset_index()\n",
    "df_emails = df_emails.drop(['index'], axis=1)\n",
    "df_emails = df_emails.drop_duplicates()"
   ]
  },
  {
   "cell_type": "markdown",
   "metadata": {},
   "source": [
    "## The obtained corpus stats"
   ]
  },
  {
   "cell_type": "code",
   "execution_count": 19,
   "metadata": {},
   "outputs": [
    {
     "name": "stdout",
     "output_type": "stream",
     "text": [
      "# of messages:           6162 (some messages contains multiple attachments)\n",
      "# of unique messages:    4394\n",
      "# of unique attachments: 1946\n"
     ]
    }
   ],
   "source": [
    "print(\"# of messages:           {} (some messages contains multiple attachments)\".format(df_emails.shape[0]))\n",
    "print(\"# of unique messages:    {}\".format(len(df_emails['content'].unique())))\n",
    "print(\"# of unique attachments: {}\".format(len(df_emails['attachment'].unique())))"
   ]
  },
  {
   "cell_type": "code",
   "execution_count": 23,
   "metadata": {},
   "outputs": [
    {
     "name": "stdout",
     "output_type": "stream",
     "text": [
      "ATTACHMENT STATS:\n"
     ]
    },
    {
     "data": {
      "text/plain": [
       "count    1946.000000\n",
       "mean        3.455807\n",
       "std         2.779164\n",
       "min         2.000000\n",
       "25%         2.000000\n",
       "50%         2.000000\n",
       "75%         4.000000\n",
       "max        34.000000\n",
       "Name: attachment, dtype: float64"
      ]
     },
     "execution_count": 23,
     "metadata": {},
     "output_type": "execute_result"
    }
   ],
   "source": [
    "print(\"ATTACHMENT STATS:\")\n",
    "attachment_counts.describe()"
   ]
  },
  {
   "cell_type": "code",
   "execution_count": 58,
   "metadata": {},
   "outputs": [
    {
     "data": {
      "text/html": [
       "<div>\n",
       "<style>\n",
       "    .dataframe thead tr:only-child th {\n",
       "        text-align: right;\n",
       "    }\n",
       "\n",
       "    .dataframe thead th {\n",
       "        text-align: left;\n",
       "    }\n",
       "\n",
       "    .dataframe tbody tr th {\n",
       "        vertical-align: top;\n",
       "    }\n",
       "</style>\n",
       "<table border=\"1\" class=\"dataframe\">\n",
       "  <thead>\n",
       "    <tr style=\"text-align: right;\">\n",
       "      <th></th>\n",
       "      <th>From</th>\n",
       "      <th>To</th>\n",
       "      <th>Subject</th>\n",
       "      <th>content</th>\n",
       "      <th>attachment</th>\n",
       "    </tr>\n",
       "  </thead>\n",
       "  <tbody>\n",
       "    <tr>\n",
       "      <th>4697</th>\n",
       "      <td>legal &lt;.hall@enron.com&gt;</td>\n",
       "      <td>amr.ibrahim@enron.com, ray.alvarez@enron.com</td>\n",
       "      <td>RE: CalPX Collateral Issue</td>\n",
       "      <td>To the best of my knowledge there is no CAISO ...</td>\n",
       "      <td>#150515 v1 - CPS COMMENTS ON BIRCHMAN ORDER.doc</td>\n",
       "    </tr>\n",
       "    <tr>\n",
       "      <th>4693</th>\n",
       "      <td>ray.alvarez@enron.com</td>\n",
       "      <td>legal &lt;.hall@enron.com&gt;</td>\n",
       "      <td>CalPX Collateral Issue</td>\n",
       "      <td>Thanks Steve.  With your input, my take on Eli...</td>\n",
       "      <td>#150515 v1 - CPS COMMENTS ON BIRCHMAN ORDER.doc</td>\n",
       "    </tr>\n",
       "    <tr>\n",
       "      <th>4695</th>\n",
       "      <td>amr.ibrahim@enron.com</td>\n",
       "      <td>ray.alvarez@enron.com, legal &lt;.hall@enron.com&gt;</td>\n",
       "      <td>RE: CalPX Collateral Issue</td>\n",
       "      <td>This is a quick note to let the team know that...</td>\n",
       "      <td>#150515 v1 - CPS COMMENTS ON BIRCHMAN ORDER.doc</td>\n",
       "    </tr>\n",
       "    <tr>\n",
       "      <th>4691</th>\n",
       "      <td>ray.alvarez@enron.com</td>\n",
       "      <td>legal &lt;.hall@enron.com&gt;</td>\n",
       "      <td>RE:</td>\n",
       "      <td>Steve, I believe that schedule 2, section 2.2 ...</td>\n",
       "      <td>#150515 v1 - CPS COMMENTS ON BIRCHMAN ORDER.doc</td>\n",
       "    </tr>\n",
       "    <tr>\n",
       "      <th>4699</th>\n",
       "      <td>amr.ibrahim@enron.com</td>\n",
       "      <td>legal &lt;.hall@enron.com&gt;, ray.alvarez@enron.com</td>\n",
       "      <td>RE: CalPX Collateral Issue</td>\n",
       "      <td>The preliminary research supports your conclus...</td>\n",
       "      <td>#150515 v1 - CPS COMMENTS ON BIRCHMAN ORDER.doc</td>\n",
       "    </tr>\n",
       "  </tbody>\n",
       "</table>\n",
       "</div>"
      ],
      "text/plain": [
       "                         From                                              To  \\\n",
       "4697  legal <.hall@enron.com>    amr.ibrahim@enron.com, ray.alvarez@enron.com   \n",
       "4693    ray.alvarez@enron.com                         legal <.hall@enron.com>   \n",
       "4695    amr.ibrahim@enron.com  ray.alvarez@enron.com, legal <.hall@enron.com>   \n",
       "4691    ray.alvarez@enron.com                         legal <.hall@enron.com>   \n",
       "4699    amr.ibrahim@enron.com  legal <.hall@enron.com>, ray.alvarez@enron.com   \n",
       "\n",
       "                         Subject  \\\n",
       "4697  RE: CalPX Collateral Issue   \n",
       "4693      CalPX Collateral Issue   \n",
       "4695  RE: CalPX Collateral Issue   \n",
       "4691                         RE:   \n",
       "4699  RE: CalPX Collateral Issue   \n",
       "\n",
       "                                                content  \\\n",
       "4697  To the best of my knowledge there is no CAISO ...   \n",
       "4693  Thanks Steve.  With your input, my take on Eli...   \n",
       "4695  This is a quick note to let the team know that...   \n",
       "4691  Steve, I believe that schedule 2, section 2.2 ...   \n",
       "4699  The preliminary research supports your conclus...   \n",
       "\n",
       "                                           attachment  \n",
       "4697  #150515 v1 - CPS COMMENTS ON BIRCHMAN ORDER.doc  \n",
       "4693  #150515 v1 - CPS COMMENTS ON BIRCHMAN ORDER.doc  \n",
       "4695  #150515 v1 - CPS COMMENTS ON BIRCHMAN ORDER.doc  \n",
       "4691  #150515 v1 - CPS COMMENTS ON BIRCHMAN ORDER.doc  \n",
       "4699  #150515 v1 - CPS COMMENTS ON BIRCHMAN ORDER.doc  "
      ]
     },
     "execution_count": 58,
     "metadata": {},
     "output_type": "execute_result"
    }
   ],
   "source": [
    "df_emails[['From', 'To', 'Subject', 'content', 'attachment']].sort_values(by=['attachment']).head(5)"
   ]
  },
  {
   "cell_type": "markdown",
   "metadata": {},
   "source": [
    "## Let see the messages which have the attachment file:\n",
    "       #631941 v2 - Draft letter from Enron to XYZ Corp. - January 20021.doc"
   ]
  },
  {
   "cell_type": "code",
   "execution_count": 48,
   "metadata": {},
   "outputs": [],
   "source": [
    "df_att = df_emails[df_emails['attachment'].str.contains('#631941 v2 - Draft letter from Enron to XYZ')]\n",
    "df_att = df_att[['Message-ID', 'user', 'From', 'To', 'Subject', 'content', 'attachment']]"
   ]
  },
  {
   "cell_type": "code",
   "execution_count": 59,
   "metadata": {},
   "outputs": [
    {
     "name": "stdout",
     "output_type": "stream",
     "text": [
      "The messages come from the conversation with the following subject:\n",
      "\n",
      "      'draft letter for calculation of settlement amount/methodology'\n",
      "\n",
      "\n",
      "\n",
      "(A MESSAGE BEGINS)\n",
      "=====================================================\n",
      "Message-ID:  <27056809.1075861059467.JavaMail.evans@thyme>\n",
      "Subject:     RE: draft letter for calculation of settlement amount/methodology\n",
      "\n",
      "thanks\n",
      "\n",
      "are we keeping a log of these as we send them out -- Bob\n",
      "\n",
      " -----Original Message-----\n",
      "From: \tShackleton, Sara  \n",
      "Sent:\tMonday, February 25, 2002 11:21 AM\n",
      "To:\tBruce, Robert\n",
      "Subject:\tdraft letter for calculation of settlement amount/methodology\n",
      "\n",
      "Bob:\n",
      "\n",
      "The attached letter can be used for terminated or non-terminated parties; just tweak the letter.\n",
      "\n",
      " << File: #631941 v2 - Draft letter from Enron to XYZ Corp. - January 20021.doc >> \n",
      "\n",
      "Sara Shackleton\n",
      "Enron Wholesale Services\n",
      "1400 Smith Street, EB3801a\n",
      "Houston, TX  77002\n",
      "Ph:  (713) 853-5620\n",
      "Fax: (713) 646-3490\n",
      "#631941 v2 - Draft letter from Enron to XYZ Corp. - January 20021.doc\n",
      "=====================================================\n",
      "(END OF THE MESSAGE)\n",
      "\n",
      "\n",
      "\n",
      "(A MESSAGE BEGINS)\n",
      "=====================================================\n",
      "Message-ID:  <14138165.1075861059489.JavaMail.evans@thyme>\n",
      "Subject:     RE: draft letter for calculation of settlement amount/methodology\n",
      "\n",
      "ok I will copy Stephanie on the letters I send out (I have two queued up right now) -- Bob\n",
      "\n",
      " -----Original Message-----\n",
      "From: \tShackleton, Sara  \n",
      "Sent:\tMonday, February 25, 2002 11:57 AM\n",
      "To:\tBruce, Robert\n",
      "Cc:\tPanus, Stephanie\n",
      "Subject:\tRE: draft letter for calculation of settlement amount/methodology\n",
      "\n",
      "Financial trading is just now gearing up to send these follow-up letters.  The few that have been sent have been incorporated into the counterparty files and logged onto the \"Master Letter Log\" which is updated by Stephanie Panus.\n",
      "\n",
      "Sara\n",
      "\n",
      " -----Original Message-----\n",
      "From: \tBruce, Robert  \n",
      "Sent:\tMonday, February 25, 2002 11:23 AM\n",
      "To:\tShackleton, Sara\n",
      "Subject:\tRE: draft letter for calculation of settlement amount/methodology\n",
      "\n",
      "thanks\n",
      "\n",
      "are we keeping a log of these as we send them out -- Bob\n",
      "\n",
      " -----Original Message-----\n",
      "From: \tShackleton, Sara  \n",
      "Sent:\tMonday, February 25, 2002 11:21 AM\n",
      "To:\tBruce, Robert\n",
      "Subject:\tdraft letter for calculation of settlement amount/methodology\n",
      "\n",
      "Bob:\n",
      "\n",
      "The attached letter can be used for terminated or non-terminated parties; just tweak the letter.\n",
      "\n",
      " << File: #631941 v2 - Draft letter from Enron to XYZ Corp. - January 20021.doc >> \n",
      "\n",
      "Sara Shackleton\n",
      "Enron Wholesale Services\n",
      "1400 Smith Street, EB3801a\n",
      "Houston, TX  77002\n",
      "Ph:  (713) 853-5620\n",
      "Fax: (713) 646-3490\n",
      "#631941 v2 - Draft letter from Enron to XYZ Corp. - January 20021.doc\n",
      "=====================================================\n",
      "(END OF THE MESSAGE)\n",
      "\n",
      "\n",
      "\n",
      "(A MESSAGE BEGINS)\n",
      "=====================================================\n",
      "Message-ID:  <18712784.1075861051497.JavaMail.evans@thyme>\n",
      "Subject:     RE: draft letter for calculation of settlement amount/methodology\n",
      "\n",
      "Financial trading is just now gearing up to send these follow-up letters.  The few that have been sent have been incorporated into the counterparty files and logged onto the \"Master Letter Log\" which is updated by Stephanie Panus.\n",
      "\n",
      "Sara\n",
      "\n",
      " -----Original Message-----\n",
      "From: \tBruce, Robert  \n",
      "Sent:\tMonday, February 25, 2002 11:23 AM\n",
      "To:\tShackleton, Sara\n",
      "Subject:\tRE: draft letter for calculation of settlement amount/methodology\n",
      "\n",
      "thanks\n",
      "\n",
      "are we keeping a log of these as we send them out -- Bob\n",
      "\n",
      " -----Original Message-----\n",
      "From: \tShackleton, Sara  \n",
      "Sent:\tMonday, February 25, 2002 11:21 AM\n",
      "To:\tBruce, Robert\n",
      "Subject:\tdraft letter for calculation of settlement amount/methodology\n",
      "\n",
      "Bob:\n",
      "\n",
      "The attached letter can be used for terminated or non-terminated parties; just tweak the letter.\n",
      "\n",
      " << File: #631941 v2 - Draft letter from Enron to XYZ Corp. - January 20021.doc >> \n",
      "\n",
      "Sara Shackleton\n",
      "Enron Wholesale Services\n",
      "1400 Smith Street, EB3801a\n",
      "Houston, TX  77002\n",
      "Ph:  (713) 853-5620\n",
      "Fax: (713) 646-3490\n",
      "#631941 v2 - Draft letter from Enron to XYZ Corp. - January 20021.doc\n",
      "=====================================================\n",
      "(END OF THE MESSAGE)\n"
     ]
    }
   ],
   "source": [
    "print(\"The messages come from the conversation with the following subject:\\n\")\n",
    "print(\"      'draft letter for calculation of settlement amount/methodology'\")\n",
    "for i in (df_att.index.tolist()):\n",
    "    print(\"\\n\\n\\n(A MESSAGE BEGINS)\\n=====================================================\")\n",
    "    print(\"Message-ID:  {}\".format(df_att['Message-ID'][int(i)]))\n",
    "    print(\"Subject:     {}\\n\".format(df_att['Subject'][int(i)]))\n",
    "    print(df_att['content'][int(i)])\n",
    "    print(df_att['attachment'][int(i)])\n",
    "    print(\"=====================================================\")\n",
    "    print(\"(END OF THE MESSAGE)\")"
   ]
  },
  {
   "cell_type": "code",
   "execution_count": null,
   "metadata": {},
   "outputs": [],
   "source": []
  }
 ],
 "metadata": {
  "kernelspec": {
   "display_name": "Python 3",
   "language": "python",
   "name": "python3"
  },
  "language_info": {
   "codemirror_mode": {
    "name": "ipython",
    "version": 3
   },
   "file_extension": ".py",
   "mimetype": "text/x-python",
   "name": "python",
   "nbconvert_exporter": "python",
   "pygments_lexer": "ipython3",
   "version": "3.6.4"
  }
 },
 "nbformat": 4,
 "nbformat_minor": 2
}
